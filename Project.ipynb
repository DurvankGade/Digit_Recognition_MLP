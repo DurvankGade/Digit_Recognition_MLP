{
 "cells": [
  {
   "cell_type": "markdown",
   "id": "7706870d-3811-4ad3-a4d9-b8f863baa9ea",
   "metadata": {},
   "source": [
    "<h1 align=\"center\">Digit Recognition Using Multi Layered Perceptrons</h1>\n",
    "<h4 align=\"center\">Author-Durvank Mahesh Gade</h4><br>\n",
    "<b>Aim</b>: Digit recognition using MLPClassifier.<br><br>\n",
    "<b>Packages and Libraries Used:</b><br>\n",
    "1. Pandas<br>\n",
    "2. Numpy<br>\n",
    "3. Matplotlib<br>\n",
    "4. Sklearn(scikit learn)<br>\n",
    "<br>\n",
    "Importing the packages:"
   ]
  },
  {
   "cell_type": "code",
   "execution_count": 1,
   "id": "4b60d189-5bad-4c74-aaa9-10e193faad2a",
   "metadata": {},
   "outputs": [],
   "source": [
    "import pandas as pd\n",
    "import numpy as np\n",
    "import random\n",
    "from sklearn.neural_network import MLPClassifier\n",
    "import matplotlib.pyplot as plt\n",
    "from sklearn.metrics import accuracy_score\n",
    "from sklearn.model_selection import RandomizedSearchCV"
   ]
  },
  {
   "cell_type": "markdown",
   "id": "9eb40965-1406-4937-8ad6-0edd195c9e24",
   "metadata": {},
   "source": [
    "Importing the Dataset:"
   ]
  },
  {
   "cell_type": "code",
   "execution_count": 2,
   "id": "c6f67a39-8e67-4084-8662-ff25dfa6b12d",
   "metadata": {},
   "outputs": [],
   "source": [
    "X_train=pd.read_csv(\"Data/image_data_training_without_label.csv\")\n",
    "X_train.set_index(X_train[\"id\"])\n",
    "X_test=pd.read_csv(\"Data/image_data_test.csv\")\n",
    "X_test.set_index(X_test[\"id\"])\n",
    "Y_train=pd.read_csv(\"Data/training_label.csv\")\n",
    "Y_train.set_index(Y_train[\"id\"])\n",
    "Y_train=Y_train.drop(\"id\",axis=1)\n",
    "Y_test=pd.read_csv(\"Data/test_label.csv\")\n",
    "Y_test.set_index(Y_test[\"id\"])\n",
    "Y_test=Y_test.drop(\"id\",axis=1)\n",
    "Y_test=np.array(Y_test)\n",
    "Y_test=Y_test.ravel()\n",
    "#Since X_train and Y_train are too large, lets try reducing their size to reduce training time\n",
    "l=[]\n",
    "\n",
    "for i in range(3000):\n",
    "    l+=[random.randint(0,60010)]\n",
    "Xtf=pd.DataFrame(columns=X_train.columns)\n",
    "Ytf=pd.DataFrame(columns=Y_train.columns)\n",
    "for i in range(3000):\n",
    "    Xtf.loc[i]=X_train.iloc[l[i]]\n",
    "    Ytf.loc[i]=Y_train.iloc[l[i]]\n",
    "Xtf=Xtf.drop(\"id\",axis=1)"
   ]
  },
  {
   "cell_type": "markdown",
   "id": "91b48b68-2f15-4f24-9dc0-6319d87cb27d",
   "metadata": {},
   "source": [
    "Now, lets look into the data:"
   ]
  },
  {
   "cell_type": "code",
   "execution_count": 3,
   "id": "c3ec3203-b125-4cc0-b608-78c12ad7842b",
   "metadata": {},
   "outputs": [
    {
     "name": "stdout",
     "output_type": "stream",
     "text": [
      "<class 'pandas.core.frame.DataFrame'>\n",
      "RangeIndex: 60010 entries, 0 to 60009\n",
      "Columns: 786 entries, id to 784\n",
      "dtypes: int64(786)\n",
      "memory usage: 359.9 MB\n"
     ]
    }
   ],
   "source": [
    "X_train.info()"
   ]
  },
  {
   "cell_type": "markdown",
   "id": "9712efca-1a20-4dbf-bd8c-58fb1b1440b0",
   "metadata": {},
   "source": [
    "Since X_train has 786 columns, with the first column being labeled as ‘id’, we can convert the DataFrame into a Numpy array. By excluding the ‘id’ and ‘784’ columns, we can reshape the array into 28x28 so that we can display examples as an image using Matplotlib."
   ]
  },
  {
   "cell_type": "code",
   "execution_count": 4,
   "id": "b37160b2-b1f3-4093-89db-655bd7bcbd4d",
   "metadata": {},
   "outputs": [
    {
     "data": {
      "image/png": "[encoded data removed]",
      "text/plain": [
       "<Figure size 600x600 with 3 Axes>"
      ]
     },
     "metadata": {},
     "output_type": "display_data"
    }
   ],
   "source": [
    "show=pd.DataFrame(columns=X_train.columns)\n",
    "show.loc[0]=X_train.loc[3000] #Random index for visualization \n",
    "show.loc[1]=X_train.loc[15000] #Random index for visualization\n",
    "show.loc[2]=X_train.loc[58000] #Random index for visualization\n",
    "show=show.drop(\"id\",axis=1)\n",
    "show=show.drop(\"784\",axis=1)\n",
    "show=np.array(show).astype(\"float\")\n",
    "plt.figure(figsize=(6,6))\n",
    "for i in range(0,3):\n",
    "    plt.subplot(1,3,i+1)\n",
    "    plt.imshow(show[i].reshape(28,28))\n",
    "    plt.axis(\"off\")\n"
   ]
  },
  {
   "cell_type": "markdown",
   "id": "bb5add63-cc2c-4342-b8af-012e183bf3ce",
   "metadata": {},
   "source": [
    "Now lets optimize the parameters of MLP Classifier using <b>RandomizedSearchCV:</b>"
   ]
  },
  {
   "cell_type": "code",
   "execution_count": 5,
   "id": "d34d1218-32ef-466d-aa06-ac0c95faa322",
   "metadata": {},
   "outputs": [
    {
     "name": "stdout",
     "output_type": "stream",
     "text": [
      "Best parameters {'max_iter': 200, 'learning_rate_init': 0.001, 'hidden_layer_sizes': 256, 'alpha': 0.001}\n"
     ]
    }
   ],
   "source": [
    "parameters = {'hidden_layer_sizes':[64,128,256], 'alpha':[0.01,0.001,0.0001], 'max_iter': [200, 500, 800], 'learning_rate_init':[0.0001, 0.001, 0.01, 0.1] }\n",
    "model = MLPClassifier()\n",
    "abc=RandomizedSearchCV(estimator=model,param_distributions=parameters,cv=5)\n",
    "#To remove warnings:\n",
    "Ytf=np.array(Ytf)\n",
    "Ytf=Ytf.ravel()\n",
    "\n",
    "abc.fit(Xtf,Ytf)\n",
    "print(f\"Best parameters {abc.best_params_}\" )\n",
    "\n",
    "best_model=abc.best_estimator_#Selects the best model"
   ]
  },
  {
   "cell_type": "markdown",
   "id": "3823e688-dcff-4f7a-87a5-9b8202bebde6",
   "metadata": {},
   "source": [
    "The cross validation training was carried out with the help of <b>RandomizedSearchCV</b> from <b>sklearn.model_selection</b> . Now lets evaluate the performance of the model with the help of performance metrics. Here we are using <b>accuracy_score</b> from <b>sklearn.metrics</b> ."
   ]
  },
  {
   "cell_type": "code",
   "execution_count": 6,
   "id": "ecc36c6c-e0bf-464d-aea5-f7b2fa3898ca",
   "metadata": {},
   "outputs": [
    {
     "name": "stdout",
     "output_type": "stream",
     "text": [
      "The accuracy score of the Best Model is : 0.893\n"
     ]
    }
   ],
   "source": [
    "X_test.set_index(\"id\")\n",
    "X_test=X_test.drop(\"id\",axis=1)\n",
    "Y_pred=best_model.predict(X_test)\n",
    "print(f\"The accuracy score of the Best Model is : {accuracy_score(Y_pred, Y_test)}\")"
   ]
  },
  {
   "cell_type": "code",
   "execution_count": 7,
   "id": "121ff461-58b7-4dff-8145-082651f1236a",
   "metadata": {},
   "outputs": [
    {
     "data": {
      "image/png": "[encoded data removed]",
      "text/plain": [
       "<Figure size 1200x700 with 6 Axes>"
      ]
     },
     "metadata": {},
     "output_type": "display_data"
    }
   ],
   "source": [
    "plt.figure(figsize=(12, 7))\n",
    "plt.subplot(2, 3, 1)\n",
    "sample_indices = [3, 2000, 3800, 4003, 4600, 9322]\n",
    "for i, idx in enumerate(sample_indices, start=1):\n",
    "    sample = pd.DataFrame(columns=X_test.columns)\n",
    "    sample.loc[0] = X_test.loc[idx]\n",
    "    pred = best_model.predict(sample)    \n",
    "    plt.subplot(2, 3, i)\n",
    "    sample=sample.drop(\"784\",axis=1)\n",
    "    plt.imshow(np.array(sample).reshape(28, 28))\n",
    "    plt.title(f\"Predicted as {pred}\")\n",
    "    plt.axis(\"off\")\n",
    "plt.show()\n"
   ]
  },
  {
   "cell_type": "markdown",
   "id": "15d5cdaa-0760-4b9b-90da-33d2236d397d",
   "metadata": {},
   "source": [
    "# **About me**\n",
    "Hello! I'm <b>Durvank Gade</b>, a passionate <b>CSE AI ML</b> undergraduate student at VIT Chennai. With a background in <b>Data Science</b>, I thrive on solving complex problems and creating innovative solutions.\n",
    "<br>\n",
    "<br>\n",
    "I'm deeply interested in <b>Data Science</b>, especially <b>Machine Learning</b>. Whether it's diving into machine learning algorithms or exploring data science, I'm always eager to learn and grow. My curiosity drives me to stay up-to-date with the latest trends and technologies.<br><br>\n",
    "I'm always open to new opportunities, discussions and collaborations. Feel free to connect via:<br>\n",
    "<b>Email</b>: <a>durvankgade@gmail.com</a><br>\n",
    "<b>Phone/Whatsapp</b>: <a>9404763853<a><br>\n",
    "<b>Linkedin<b>: <a>https://www.linkedin.com/in/durvank-gade-bb38a0276/</a>"
   ]
  },
  {
   "cell_type": "code",
   "execution_count": null,
   "id": "5ec9783e-be8a-4863-83f6-142c82911803",
   "metadata": {},
   "outputs": [],
   "source": []
  }
 ],
 "metadata": {
  "kernelspec": {
   "display_name": "Python 3 (ipykernel)",
   "language": "python",
   "name": "python3"
  },
  "language_info": {
   "codemirror_mode": {
    "name": "ipython",
    "version": 3
   },
   "file_extension": ".py",
   "mimetype": "text/x-python",
   "name": "python",
   "nbconvert_exporter": "python",
   "pygments_lexer": "ipython3",
   "version": "3.11.4"
  }
 },
 "nbformat": 4,
 "nbformat_minor": 5
}
